{
  "nbformat": 4,
  "nbformat_minor": 0,
  "metadata": {
    "colab": {
      "provenance": [],
      "mount_file_id": "1VbDALYQ_NQ3DJ4gMtT-hN79Qu3pbrzqS",
      "authorship_tag": "ABX9TyN5A5UmhioXftzE4516lmJy",
      "include_colab_link": true
    },
    "kernelspec": {
      "name": "python3",
      "display_name": "Python 3"
    },
    "language_info": {
      "name": "python"
    }
  },
  "cells": [
    {
      "cell_type": "markdown",
      "metadata": {
        "id": "view-in-github",
        "colab_type": "text"
      },
      "source": [
        "<a href=\"https://colab.research.google.com/github/lcylsy0725/lcylsy0725/blob/main/Data_Collection_3_3.ipynb\" target=\"_parent\"><img src=\"https://colab.research.google.com/assets/colab-badge.svg\" alt=\"Open In Colab\"/></a>"
      ]
    },
    {
      "cell_type": "code",
      "execution_count": 1,
      "metadata": {
        "colab": {
          "base_uri": "https://localhost:8080/"
        },
        "id": "UZzf2ruegHuI",
        "outputId": "9b4f3af2-e61d-4284-9684-1c4f5495dad7"
      },
      "outputs": [
        {
          "output_type": "stream",
          "name": "stdout",
          "text": [
            "Looking in indexes: https://pypi.org/simple, https://us-python.pkg.dev/colab-wheels/public/simple/\n",
            "Collecting sec-api\n",
            "  Downloading sec_api-1.0.15-py3-none-any.whl (15 kB)\n",
            "Requirement already satisfied: requests in /usr/local/lib/python3.8/dist-packages (from sec-api) (2.25.1)\n",
            "Requirement already satisfied: certifi>=2017.4.17 in /usr/local/lib/python3.8/dist-packages (from requests->sec-api) (2022.12.7)\n",
            "Requirement already satisfied: urllib3<1.27,>=1.21.1 in /usr/local/lib/python3.8/dist-packages (from requests->sec-api) (1.26.14)\n",
            "Requirement already satisfied: idna<3,>=2.5 in /usr/local/lib/python3.8/dist-packages (from requests->sec-api) (2.10)\n",
            "Requirement already satisfied: chardet<5,>=3.0.2 in /usr/local/lib/python3.8/dist-packages (from requests->sec-api) (4.0.0)\n",
            "Installing collected packages: sec-api\n",
            "Successfully installed sec-api-1.0.15\n"
          ]
        }
      ],
      "source": [
        "pip install sec-api"
      ]
    },
    {
      "cell_type": "code",
      "source": [
        "import json"
      ],
      "metadata": {
        "id": "mfhRDuybhSr6"
      },
      "execution_count": 7,
      "outputs": []
    },
    {
      "cell_type": "code",
      "source": [
        "import csv \n",
        "import re"
      ],
      "metadata": {
        "id": "qazMRqJMIX3h"
      },
      "execution_count": 51,
      "outputs": []
    },
    {
      "cell_type": "code",
      "source": [
        "api_key = \"8fc9a2565c1278fcfd310fd773d7f24e4e66ebd1a00a39c9355c71e052cbba08\""
      ],
      "metadata": {
        "id": "lnl37LohQnNz"
      },
      "execution_count": 52,
      "outputs": []
    },
    {
      "cell_type": "code",
      "source": [
        "queryApi = QueryApi(api_key=api_key)"
      ],
      "metadata": {
        "id": "-DZmRA_dPZDu"
      },
      "execution_count": 53,
      "outputs": []
    },
    {
      "cell_type": "code",
      "source": [
        "extractorApi = ExtractorApi(api_key)"
      ],
      "metadata": {
        "id": "l1ak7Z4cSiY5"
      },
      "execution_count": 69,
      "outputs": []
    },
    {
      "cell_type": "code",
      "source": [
        "ticker_100 = {'AAPL','MSFT','AMZN', 'NVDA','GOOGL','TSLA','BRK.B','GOOG','XOM','UNH','JNJ','JPM',\"META\",\"V\",\"PG\",\"HD\",\"MA\",\"CVX\", \"MRX\", \"LLY\",\n",
        "          \"ABBV\",\"BAC\",\"PFE\",\"AVGO\",\"PEP\",\"KO\",\"TMO\",\"COST\",\"WMT\",\"DIS\",\"CSCO\",\"MCD\",\"ABT\",\"WFC\",\"ACN\",\"ADBE\",\"CRM\",\"VZ\",\"CMCSA\",\"DHR\",\"LIN\",\"TXN\",\"NFLX\",\n",
        "          \"NKE\",\"PM\",\"BMY\",\"NEE\",\"RTX\",\"QCOM\",\"COP\",\"AMD\",\"ORCL\",\"T\",\"UPS\",\"HON\",\"LOW\",\"MS\",\"AMGN\",\"CAT\",\"GS\",\"UNP\",\"SBUX\", \"IBM\", \"SCHW\",\"BA\", \"SPGI\", \"INTC\", \"INTU\", \"PLD\", \"ELV\",\"CVS\", \"DE\",\n",
        "          \"LMT\",\"MDT\",\"BLK\",\"AXP\",\"GILD\",\"AMAT\",\"AMT\",\"C\",\"BKNG\",\"ADI\",\"TJX\",\"ADP\",\"NOW\",\"CI\",\"GE\", \"MDLZ\",\"SYK\", \"CB\", \"TMUS\", \" PYPL\", \"ISRG\", \"MO\", \"MMC\", \"PGR\", \"SLB\", \"REGN\", \"ZTS\",\"TGT\"}\n",
        "\n",
        "ticker_3 = {\"AAPL\"}"
      ],
      "metadata": {
        "id": "gRPZbLi-iM1N"
      },
      "execution_count": 50,
      "outputs": []
    },
    {
      "cell_type": "code",
      "source": [
        "base_query = {\n",
        "  \"query\": { \n",
        "      \"query_string\": { \n",
        "          \"query\": \"PLACEHOLDER\", # this will be set during runtime \n",
        "          \"time_zone\": \"America/New_York\"\n",
        "      } \n",
        "  },\n",
        "  \"from\": \"0\",\n",
        "  \"size\": \"200\", # dont change this\n",
        "  # sort by filedAt\n",
        "  \"sort\": [{ \"filedAt\": { \"order\": \"desc\" } }]\n",
        "}"
      ],
      "metadata": {
        "id": "rMNwS6jdPVG5"
      },
      "execution_count": 54,
      "outputs": []
    },
    {
      "cell_type": "code",
      "source": [
        "# open the file we use to store the filing URLs\n",
        "log_file = open(\"filing_urls.txt\", \"a\")\n",
        "\n",
        "# start with filings filed in 2021, then 2020, 2019, ... up to 2010 \n",
        "# uncomment line below to fetch all filings filed in 2022-2010\n",
        "# for year in range(2021, 2009, -1):\n",
        "for tckr in ticker_3:\n",
        "  print(\"starting {tckr}\".format(tckr=tckr))\n",
        "  \n",
        "  # a single search universe is represented as a month of the given year\n",
        "  for month in range(1, 13, 1):\n",
        "    # get 10-Q and 10-Q/A filings filed in year and month\n",
        "    # resulting query example: \"formType:\\\"10-Q\\\" AND filedAt:[2021-01-01 TO 2021-01-31]\"\n",
        "    universe_query = \\\n",
        "        \"formType:\\\"10-K\\\" AND \" + \\\n",
        "        \"ticker:{tckr}\" \\\n",
        "        .format(tckr = tckr)\n",
        "  \n",
        "    print(universe_query)\n",
        "    # set new query universe for year-month combination\n",
        "    base_query[\"query\"][\"query_string\"][\"query\"] = universe_query;\n",
        "\n",
        "    # paginate through results by increasing \"from\" parameter \n",
        "    # until we don't find any matches anymore\n",
        "    # uncomment line below to fetch 10,000 filings\n",
        "    # for from_batch in range(0, 9800, 200): \n",
        "    for from_batch in range(0, 400, 200):\n",
        "      # set new \"from\" starting position of search \n",
        "      base_query[\"from\"] = from_batch;\n",
        "\n",
        "      response = queryApi.get_filings(base_query)\n",
        "\n",
        "      # no more filings in search universe\n",
        "      if len(response[\"filings\"]) == 0:\n",
        "        break;\n",
        "\n",
        "      # for each filing, only save the URL pointing to the filing itself \n",
        "      # and ignore all other data. \n",
        "      # the URL is set in the dict key \"linkToFilingDetails\"\n",
        "      urls_list = list(map(lambda x: x[\"linkToFilingDetails\"], response[\"filings\"]))\n",
        "\n",
        "      # transform list of URLs into one string by joining all list elements\n",
        "      # and add a new-line character between each element.\n",
        "      urls_string = \"\\n\".join(urls_list) + \"\\n\"\n",
        "      \n",
        "      log_file.write(urls_string)\n",
        "\n",
        " "
      ],
      "metadata": {
        "colab": {
          "base_uri": "https://localhost:8080/"
        },
        "id": "jDt0-tG2PLlS",
        "outputId": "9fe01d9d-8c0b-4f3c-cc2f-62d1022e59ab"
      },
      "execution_count": 55,
      "outputs": [
        {
          "output_type": "stream",
          "name": "stdout",
          "text": [
            "starting AAPL\n",
            "formType:\"10-K\" AND ticker:AAPL\n",
            "formType:\"10-K\" AND ticker:AAPL\n",
            "formType:\"10-K\" AND ticker:AAPL\n",
            "formType:\"10-K\" AND ticker:AAPL\n",
            "formType:\"10-K\" AND ticker:AAPL\n",
            "formType:\"10-K\" AND ticker:AAPL\n",
            "formType:\"10-K\" AND ticker:AAPL\n",
            "formType:\"10-K\" AND ticker:AAPL\n",
            "formType:\"10-K\" AND ticker:AAPL\n",
            "formType:\"10-K\" AND ticker:AAPL\n",
            "formType:\"10-K\" AND ticker:AAPL\n",
            "formType:\"10-K\" AND ticker:AAPL\n"
          ]
        }
      ]
    },
    {
      "cell_type": "code",
      "source": [
        "# pattern = r\"\\\\[a-z]\\\\[a-z](&#[0-9])*\"\n",
        "pattern = r\"(&#[0-9]+)*\"\n",
        "\n",
        "def edit_func(value):\n",
        "  value = value \n",
        "  editted = re.sub(pattern, \"\", value, count=0, flags=0) \n",
        "  return editted\n"
      ],
      "metadata": {
        "id": "UVCdHrGWmYrs"
      },
      "execution_count": 77,
      "outputs": []
    },
    {
      "cell_type": "code",
      "source": [
        "condensed_url = urls_list[1:3]\n",
        "extracted_data = []\n",
        "for url in condensed_url:\n",
        "    company_name = tckr\n",
        "    form_of_filing = \"10K\"\n",
        "    url = url\n",
        "    risk_section_not_edit = extractorApi.get_section(url, \"1A\", \"text\") \n",
        "    risk_section = edit_func(risk_section_not_edit) \n",
        "    mda_section_not_edit = extractorApi.get_section(url, \"7\", \"text\")  \n",
        "    mda_section = edit_func(mda_section_not_edit)\n",
        "    extracted_data.append([company_name, form_of_filing, url, risk_section, mda_section])\n",
        "\n",
        "# Write the extracted data to a CSV file\n",
        "with open(\"filing_data.csv\", \"w\", newline=\"\") as csv_file:\n",
        "    writer = csv.writer(csv_file)\n",
        "    writer.writerow([\"Company Ticker\", \"Form of Filing\", \"URL\", \"Risk Factor Text\", \"MD&A Text\"])\n",
        "    for data_row in extracted_data:\n",
        "        writer.writerow(data_row) "
      ],
      "metadata": {
        "id": "0MdbjXOURAOO"
      },
      "execution_count": 76,
      "outputs": []
    },
    {
      "cell_type": "code",
      "source": [
        "# urls_list = list(map(lambda x: x[\"linkToFilingDetails\"], query_result[\"filings\"])) \n",
        "\n",
        "\n",
        "# urls_list"
      ],
      "metadata": {
        "id": "-LJt5TqhJluL"
      },
      "execution_count": 66,
      "outputs": []
    },
    {
      "cell_type": "code",
      "source": [
        "# query_result"
      ],
      "metadata": {
        "id": "5cboEgyHJfcp"
      },
      "execution_count": 65,
      "outputs": []
    },
    {
      "cell_type": "code",
      "source": [
        "# from sec_api import ExtractorApi\n",
        "# # Extractor API documentation: https://sec-api.io/docs/sec-filings-item-extraction-api \n",
        "\n",
        "# extractorApi = ExtractorApi(\"065ad8e844002b8ad717d0c0c52b9218cb26a893dd7c028826f2577ed012a4a8\")\n",
        "\n",
        "# filing_url = \"https://www.sec.gov/ix?doc=/Archives/edgar/data/320193/000032019319000119/a10-k20199282019.htm\"\n",
        "\n",
        "# # get the standardized HTML of section 1A \"Risk Factors\"\n",
        "# section_html = extractorApi.get_section(filing_url, \"1A\", \"html\")\n",
        "\n",
        "# # get the standardized and cleaned text of section 1A \"Risk Factors\"\n",
        "# section_text = extractorApi.get_section(filing_url, \"1A\", \"text\")"
      ],
      "metadata": {
        "id": "xnBnDelLLGQo"
      },
      "execution_count": 30,
      "outputs": []
    }
  ]
}